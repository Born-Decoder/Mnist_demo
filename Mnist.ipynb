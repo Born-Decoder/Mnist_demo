{
  "nbformat": 4,
  "nbformat_minor": 0,
  "metadata": {
    "colab": {
      "name": "Mnist.ipynb",
      "provenance": [],
      "collapsed_sections": [],
      "mount_file_id": "1yo9R3dX62bFqbv8Uq7camEIMGtSn2D0h",
      "authorship_tag": "ABX9TyP/+Ui0XI8Xv0UegZ0lrOzt",
      "include_colab_link": true
    },
    "kernelspec": {
      "name": "python3",
      "display_name": "Python 3"
    },
    "language_info": {
      "name": "python"
    },
    "accelerator": "GPU"
  },
  "cells": [
    {
      "cell_type": "markdown",
      "metadata": {
        "id": "view-in-github",
        "colab_type": "text"
      },
      "source": [
        "<a href=\"https://colab.research.google.com/github/Born-Decoder/Mnist_demo/blob/main/Mnist.ipynb\" target=\"_parent\"><img src=\"https://colab.research.google.com/assets/colab-badge.svg\" alt=\"Open In Colab\"/></a>"
      ]
    },
    {
      "cell_type": "code",
      "metadata": {
        "colab": {
          "base_uri": "https://localhost:8080/"
        },
        "id": "VDxuSk1kmwtT",
        "outputId": "2eb28246-84d9-458b-a05c-ba9d4592ae25"
      },
      "source": [
        "!nvidia-smi"
      ],
      "execution_count": null,
      "outputs": [
        {
          "output_type": "stream",
          "text": [
            "Tue Jun 29 10:46:35 2021       \n",
            "+-----------------------------------------------------------------------------+\n",
            "| NVIDIA-SMI 465.27       Driver Version: 460.32.03    CUDA Version: 11.2     |\n",
            "|-------------------------------+----------------------+----------------------+\n",
            "| GPU  Name        Persistence-M| Bus-Id        Disp.A | Volatile Uncorr. ECC |\n",
            "| Fan  Temp  Perf  Pwr:Usage/Cap|         Memory-Usage | GPU-Util  Compute M. |\n",
            "|                               |                      |               MIG M. |\n",
            "|===============================+======================+======================|\n",
            "|   0  Tesla T4            Off  | 00000000:00:04.0 Off |                    0 |\n",
            "| N/A   50C    P8    10W /  70W |      0MiB / 15109MiB |      0%      Default |\n",
            "|                               |                      |                  N/A |\n",
            "+-------------------------------+----------------------+----------------------+\n",
            "                                                                               \n",
            "+-----------------------------------------------------------------------------+\n",
            "| Processes:                                                                  |\n",
            "|  GPU   GI   CI        PID   Type   Process name                  GPU Memory |\n",
            "|        ID   ID                                                   Usage      |\n",
            "|=============================================================================|\n",
            "|  No running processes found                                                 |\n",
            "+-----------------------------------------------------------------------------+\n"
          ],
          "name": "stdout"
        }
      ]
    },
    {
      "cell_type": "code",
      "metadata": {
        "id": "vYWtxI1WnC1g",
        "colab": {
          "base_uri": "https://localhost:8080/"
        },
        "outputId": "5de969f9-3c6a-4331-db5a-3b27f1280fba"
      },
      "source": [
        "import pandas as pd\n",
        "import tensorflow as tf\n",
        "import matplotlib.pyplot as plt\n",
        "import numpy as np\n",
        "from tensorflow.keras.utils import to_categorical\n",
        "!pip install -q git+https://github.com/tensorflow/docs \n",
        "import tensorflow_docs as tfdocs\n",
        "import tensorflow_docs.modeling\n",
        "import tensorflow_docs.plots\n",
        "import cv2"
      ],
      "execution_count": null,
      "outputs": [
        {
          "output_type": "stream",
          "text": [
            "\u001b[?25l\r\u001b[K     |▎                               | 10kB 23.8MB/s eta 0:00:01\r\u001b[K     |▋                               | 20kB 22.6MB/s eta 0:00:01\r\u001b[K     |█                               | 30kB 15.9MB/s eta 0:00:01\r\u001b[K     |█▎                              | 40kB 14.5MB/s eta 0:00:01\r\u001b[K     |█▋                              | 51kB 7.9MB/s eta 0:00:01\r\u001b[K     |██                              | 61kB 9.2MB/s eta 0:00:01\r\u001b[K     |██▎                             | 71kB 8.9MB/s eta 0:00:01\r\u001b[K     |██▋                             | 81kB 9.8MB/s eta 0:00:01\r\u001b[K     |███                             | 92kB 8.9MB/s eta 0:00:01\r\u001b[K     |███▏                            | 102kB 7.6MB/s eta 0:00:01\r\u001b[K     |███▌                            | 112kB 7.6MB/s eta 0:00:01\r\u001b[K     |███▉                            | 122kB 7.6MB/s eta 0:00:01\r\u001b[K     |████▏                           | 133kB 7.6MB/s eta 0:00:01\r\u001b[K     |████▌                           | 143kB 7.6MB/s eta 0:00:01\r\u001b[K     |████▉                           | 153kB 7.6MB/s eta 0:00:01\r\u001b[K     |█████▏                          | 163kB 7.6MB/s eta 0:00:01\r\u001b[K     |█████▌                          | 174kB 7.6MB/s eta 0:00:01\r\u001b[K     |█████▉                          | 184kB 7.6MB/s eta 0:00:01\r\u001b[K     |██████                          | 194kB 7.6MB/s eta 0:00:01\r\u001b[K     |██████▍                         | 204kB 7.6MB/s eta 0:00:01\r\u001b[K     |██████▊                         | 215kB 7.6MB/s eta 0:00:01\r\u001b[K     |███████                         | 225kB 7.6MB/s eta 0:00:01\r\u001b[K     |███████▍                        | 235kB 7.6MB/s eta 0:00:01\r\u001b[K     |███████▊                        | 245kB 7.6MB/s eta 0:00:01\r\u001b[K     |████████                        | 256kB 7.6MB/s eta 0:00:01\r\u001b[K     |████████▍                       | 266kB 7.6MB/s eta 0:00:01\r\u001b[K     |████████▊                       | 276kB 7.6MB/s eta 0:00:01\r\u001b[K     |█████████                       | 286kB 7.6MB/s eta 0:00:01\r\u001b[K     |█████████▎                      | 296kB 7.6MB/s eta 0:00:01\r\u001b[K     |█████████▋                      | 307kB 7.6MB/s eta 0:00:01\r\u001b[K     |██████████                      | 317kB 7.6MB/s eta 0:00:01\r\u001b[K     |██████████▎                     | 327kB 7.6MB/s eta 0:00:01\r\u001b[K     |██████████▋                     | 337kB 7.6MB/s eta 0:00:01\r\u001b[K     |███████████                     | 348kB 7.6MB/s eta 0:00:01\r\u001b[K     |███████████▎                    | 358kB 7.6MB/s eta 0:00:01\r\u001b[K     |███████████▋                    | 368kB 7.6MB/s eta 0:00:01\r\u001b[K     |████████████                    | 378kB 7.6MB/s eta 0:00:01\r\u001b[K     |████████████▏                   | 389kB 7.6MB/s eta 0:00:01\r\u001b[K     |████████████▌                   | 399kB 7.6MB/s eta 0:00:01\r\u001b[K     |████████████▉                   | 409kB 7.6MB/s eta 0:00:01\r\u001b[K     |█████████████▏                  | 419kB 7.6MB/s eta 0:00:01\r\u001b[K     |█████████████▌                  | 430kB 7.6MB/s eta 0:00:01\r\u001b[K     |█████████████▉                  | 440kB 7.6MB/s eta 0:00:01\r\u001b[K     |██████████████▏                 | 450kB 7.6MB/s eta 0:00:01\r\u001b[K     |██████████████▌                 | 460kB 7.6MB/s eta 0:00:01\r\u001b[K     |██████████████▉                 | 471kB 7.6MB/s eta 0:00:01\r\u001b[K     |███████████████                 | 481kB 7.6MB/s eta 0:00:01\r\u001b[K     |███████████████▍                | 491kB 7.6MB/s eta 0:00:01\r\u001b[K     |███████████████▊                | 501kB 7.6MB/s eta 0:00:01\r\u001b[K     |████████████████                | 512kB 7.6MB/s eta 0:00:01\r\u001b[K     |████████████████▍               | 522kB 7.6MB/s eta 0:00:01\r\u001b[K     |████████████████▊               | 532kB 7.6MB/s eta 0:00:01\r\u001b[K     |█████████████████               | 542kB 7.6MB/s eta 0:00:01\r\u001b[K     |█████████████████▍              | 552kB 7.6MB/s eta 0:00:01\r\u001b[K     |█████████████████▊              | 563kB 7.6MB/s eta 0:00:01\r\u001b[K     |██████████████████              | 573kB 7.6MB/s eta 0:00:01\r\u001b[K     |██████████████████▎             | 583kB 7.6MB/s eta 0:00:01\r\u001b[K     |██████████████████▋             | 593kB 7.6MB/s eta 0:00:01\r\u001b[K     |███████████████████             | 604kB 7.6MB/s eta 0:00:01\r\u001b[K     |███████████████████▎            | 614kB 7.6MB/s eta 0:00:01\r\u001b[K     |███████████████████▋            | 624kB 7.6MB/s eta 0:00:01\r\u001b[K     |████████████████████            | 634kB 7.6MB/s eta 0:00:01\r\u001b[K     |████████████████████▎           | 645kB 7.6MB/s eta 0:00:01\r\u001b[K     |████████████████████▋           | 655kB 7.6MB/s eta 0:00:01\r\u001b[K     |█████████████████████           | 665kB 7.6MB/s eta 0:00:01\r\u001b[K     |█████████████████████▏          | 675kB 7.6MB/s eta 0:00:01\r\u001b[K     |█████████████████████▌          | 686kB 7.6MB/s eta 0:00:01\r\u001b[K     |█████████████████████▉          | 696kB 7.6MB/s eta 0:00:01\r\u001b[K     |██████████████████████▏         | 706kB 7.6MB/s eta 0:00:01\r\u001b[K     |██████████████████████▌         | 716kB 7.6MB/s eta 0:00:01\r\u001b[K     |██████████████████████▉         | 727kB 7.6MB/s eta 0:00:01\r\u001b[K     |███████████████████████▏        | 737kB 7.6MB/s eta 0:00:01\r\u001b[K     |███████████████████████▌        | 747kB 7.6MB/s eta 0:00:01\r\u001b[K     |███████████████████████▉        | 757kB 7.6MB/s eta 0:00:01\r\u001b[K     |████████████████████████        | 768kB 7.6MB/s eta 0:00:01\r\u001b[K     |████████████████████████▍       | 778kB 7.6MB/s eta 0:00:01\r\u001b[K     |████████████████████████▊       | 788kB 7.6MB/s eta 0:00:01\r\u001b[K     |█████████████████████████       | 798kB 7.6MB/s eta 0:00:01\r\u001b[K     |█████████████████████████▍      | 808kB 7.6MB/s eta 0:00:01\r\u001b[K     |█████████████████████████▊      | 819kB 7.6MB/s eta 0:00:01\r\u001b[K     |██████████████████████████      | 829kB 7.6MB/s eta 0:00:01\r\u001b[K     |██████████████████████████▍     | 839kB 7.6MB/s eta 0:00:01\r\u001b[K     |██████████████████████████▊     | 849kB 7.6MB/s eta 0:00:01\r\u001b[K     |███████████████████████████     | 860kB 7.6MB/s eta 0:00:01\r\u001b[K     |███████████████████████████▎    | 870kB 7.6MB/s eta 0:00:01\r\u001b[K     |███████████████████████████▋    | 880kB 7.6MB/s eta 0:00:01\r\u001b[K     |████████████████████████████    | 890kB 7.6MB/s eta 0:00:01\r\u001b[K     |████████████████████████████▎   | 901kB 7.6MB/s eta 0:00:01\r\u001b[K     |████████████████████████████▋   | 911kB 7.6MB/s eta 0:00:01\r\u001b[K     |█████████████████████████████   | 921kB 7.6MB/s eta 0:00:01\r\u001b[K     |█████████████████████████████▎  | 931kB 7.6MB/s eta 0:00:01\r\u001b[K     |█████████████████████████████▋  | 942kB 7.6MB/s eta 0:00:01\r\u001b[K     |█████████████████████████████▉  | 952kB 7.6MB/s eta 0:00:01\r\u001b[K     |██████████████████████████████▏ | 962kB 7.6MB/s eta 0:00:01\r\u001b[K     |██████████████████████████████▌ | 972kB 7.6MB/s eta 0:00:01\r\u001b[K     |██████████████████████████████▉ | 983kB 7.6MB/s eta 0:00:01\r\u001b[K     |███████████████████████████████▏| 993kB 7.6MB/s eta 0:00:01\r\u001b[K     |███████████████████████████████▌| 1.0MB 7.6MB/s eta 0:00:01\r\u001b[K     |███████████████████████████████▉| 1.0MB 7.6MB/s eta 0:00:01\r\u001b[K     |████████████████████████████████| 1.0MB 7.6MB/s \n",
            "\u001b[?25h  Building wheel for tensorflow-docs (setup.py) ... \u001b[?25l\u001b[?25hdone\n"
          ],
          "name": "stdout"
        }
      ]
    },
    {
      "cell_type": "code",
      "metadata": {
        "colab": {
          "base_uri": "https://localhost:8080/"
        },
        "id": "S3G17l1SnlNs",
        "outputId": "c8932a3d-a10a-4094-e028-df64598c8a0d"
      },
      "source": [
        "(x_train, y_train), (x_test, y_test) = tf.keras.datasets.mnist.load_data()\n",
        "\n",
        "# Rescale the images from [0,255] to the [0.0,1.0] range.\n",
        "x_train, x_test = x_train[..., np.newaxis]/255.0, x_test[..., np.newaxis]/255.0\n",
        "x_train = x_train.reshape(-1, 28, 28, 1)\n",
        "x_test = x_test.reshape(-1, 28, 28, 1)\n",
        "print(\"Number of original training examples:\", len(x_train))\n",
        "print(\"Number of original test examples:\", len(x_test))"
      ],
      "execution_count": null,
      "outputs": [
        {
          "output_type": "stream",
          "text": [
            "Downloading data from https://storage.googleapis.com/tensorflow/tf-keras-datasets/mnist.npz\n",
            "11493376/11490434 [==============================] - 0s 0us/step\n",
            "Number of original training examples: 60000\n",
            "Number of original test examples: 10000\n"
          ],
          "name": "stdout"
        }
      ]
    },
    {
      "cell_type": "code",
      "metadata": {
        "colab": {
          "base_uri": "https://localhost:8080/"
        },
        "id": "08_3wWPzpyt0",
        "outputId": "ebeb4847-3307-4532-a63a-1c94d474c5bf"
      },
      "source": [
        "x_train.shape"
      ],
      "execution_count": null,
      "outputs": [
        {
          "output_type": "execute_result",
          "data": {
            "text/plain": [
              "(60000, 28, 28, 1)"
            ]
          },
          "metadata": {
            "tags": []
          },
          "execution_count": 4
        }
      ]
    },
    {
      "cell_type": "code",
      "metadata": {
        "id": "6KK8YNndNyyA"
      },
      "source": [
        "#x_train[0]"
      ],
      "execution_count": null,
      "outputs": []
    },
    {
      "cell_type": "code",
      "metadata": {
        "colab": {
          "base_uri": "https://localhost:8080/"
        },
        "id": "7-cyrEPzH_PK",
        "outputId": "e3f351c6-bb85-4cf9-e413-d083fde7206e"
      },
      "source": [
        "y_train.shape"
      ],
      "execution_count": null,
      "outputs": [
        {
          "output_type": "execute_result",
          "data": {
            "text/plain": [
              "(60000,)"
            ]
          },
          "metadata": {
            "tags": []
          },
          "execution_count": 5
        }
      ]
    },
    {
      "cell_type": "code",
      "metadata": {
        "colab": {
          "base_uri": "https://localhost:8080/"
        },
        "id": "rZZvoaGoO5wM",
        "outputId": "2c338335-6005-4a07-a338-e4b7f1e42a54"
      },
      "source": [
        "y_train"
      ],
      "execution_count": null,
      "outputs": [
        {
          "output_type": "execute_result",
          "data": {
            "text/plain": [
              "array([5, 0, 4, ..., 5, 6, 8], dtype=uint8)"
            ]
          },
          "metadata": {
            "tags": []
          },
          "execution_count": 6
        }
      ]
    },
    {
      "cell_type": "code",
      "metadata": {
        "colab": {
          "base_uri": "https://localhost:8080/"
        },
        "id": "U5RDAYKAH_Z4",
        "outputId": "6600a6f8-3f6c-4336-ca0c-8d3b02f224cb"
      },
      "source": [
        "x_test.shape"
      ],
      "execution_count": null,
      "outputs": [
        {
          "output_type": "execute_result",
          "data": {
            "text/plain": [
              "(10000, 28, 28, 1)"
            ]
          },
          "metadata": {
            "tags": []
          },
          "execution_count": 7
        }
      ]
    },
    {
      "cell_type": "code",
      "metadata": {
        "colab": {
          "base_uri": "https://localhost:8080/"
        },
        "id": "JDvCV3wtH_nL",
        "outputId": "1ac8b719-75a7-402c-a8ce-68ac293fd6a9"
      },
      "source": [
        "y_test.shape"
      ],
      "execution_count": null,
      "outputs": [
        {
          "output_type": "execute_result",
          "data": {
            "text/plain": [
              "(10000,)"
            ]
          },
          "metadata": {
            "tags": []
          },
          "execution_count": 8
        }
      ]
    },
    {
      "cell_type": "code",
      "metadata": {
        "colab": {
          "base_uri": "https://localhost:8080/"
        },
        "id": "_dcSl4k6Iyg7",
        "outputId": "00c1c4b7-23d5-46c1-c023-c04be6de27bf"
      },
      "source": [
        "Y_test = to_categorical(y_test)\n",
        "Y_train = to_categorical(y_train)\n",
        "print(Y_test.shape)\n",
        "print(Y_train.shape)"
      ],
      "execution_count": null,
      "outputs": [
        {
          "output_type": "stream",
          "text": [
            "(10000, 10)\n",
            "(60000, 10)\n"
          ],
          "name": "stdout"
        }
      ]
    },
    {
      "cell_type": "code",
      "metadata": {
        "colab": {
          "base_uri": "https://localhost:8080/"
        },
        "id": "g5VuxtwNn85V",
        "outputId": "0c8c6e10-49ad-412a-a3fc-42bfbce461c9"
      },
      "source": [
        "#input data is of 28 x 28 pixels\n",
        "model = tf.keras.models.Sequential([\n",
        "                                      tf.keras.layers.Conv2D(28, kernel_size=(3,3), input_shape=(28,28,1)),\n",
        "                                      tf.keras.layers.MaxPooling2D(pool_size=(2, 2), strides=(1,1), padding='valid'),\n",
        "                                      tf.keras.layers.Conv2D(32,3,padding='valid'),\n",
        "                                      tf.keras.layers.Conv2D(48,3,padding='valid'),\n",
        "                                      tf.keras.layers.Flatten(),\n",
        "                                      tf.keras.layers.Dense(128,activation='relu'),\n",
        "                                      tf.keras.layers.Dense(10,activation='softmax')\n",
        "  ])\n",
        "model.compile(optimizer=tf.keras.optimizers.Adam(learning_rate=0.001),\n",
        "                loss=tf.keras.losses.CategoricalCrossentropy(),\n",
        "                metrics=tf.metrics.CategoricalAccuracy(name='accuracy'))\n",
        "model.summary()\n",
        "history = model.fit(x_train,Y_train,\n",
        "                      epochs=3,\n",
        "                      batch_size=128,\n",
        "                      validation_data=(x_test,Y_test))\n"
      ],
      "execution_count": null,
      "outputs": [
        {
          "output_type": "stream",
          "text": [
            "Model: \"sequential\"\n",
            "_________________________________________________________________\n",
            "Layer (type)                 Output Shape              Param #   \n",
            "=================================================================\n",
            "conv2d (Conv2D)              (None, 26, 26, 28)        280       \n",
            "_________________________________________________________________\n",
            "max_pooling2d (MaxPooling2D) (None, 25, 25, 28)        0         \n",
            "_________________________________________________________________\n",
            "conv2d_1 (Conv2D)            (None, 23, 23, 32)        8096      \n",
            "_________________________________________________________________\n",
            "conv2d_2 (Conv2D)            (None, 21, 21, 48)        13872     \n",
            "_________________________________________________________________\n",
            "flatten (Flatten)            (None, 21168)             0         \n",
            "_________________________________________________________________\n",
            "dense (Dense)                (None, 128)               2709632   \n",
            "_________________________________________________________________\n",
            "dense_1 (Dense)              (None, 10)                1290      \n",
            "=================================================================\n",
            "Total params: 2,733,170\n",
            "Trainable params: 2,733,170\n",
            "Non-trainable params: 0\n",
            "_________________________________________________________________\n",
            "Epoch 1/3\n",
            "469/469 [==============================] - 36s 10ms/step - loss: 0.1449 - accuracy: 0.9566 - val_loss: 0.0742 - val_accuracy: 0.9772\n",
            "Epoch 2/3\n",
            "469/469 [==============================] - 4s 9ms/step - loss: 0.0468 - accuracy: 0.9854 - val_loss: 0.0563 - val_accuracy: 0.9814\n",
            "Epoch 3/3\n",
            "469/469 [==============================] - 4s 9ms/step - loss: 0.0340 - accuracy: 0.9895 - val_loss: 0.0381 - val_accuracy: 0.9894\n"
          ],
          "name": "stdout"
        }
      ]
    },
    {
      "cell_type": "code",
      "metadata": {
        "colab": {
          "base_uri": "https://localhost:8080/",
          "height": 513
        },
        "id": "jLmJYxH1rSFD",
        "outputId": "6194b03e-7ce2-4527-81e5-c4cb9caa874c"
      },
      "source": [
        "plt.rcParams['figure.figsize'] = (12, 8)\n",
        "plotter = tfdocs.plots.HistoryPlotter(metric = 'accuracy')\n",
        "histories={}\n",
        "histories['Model_mnist']=history\n",
        "plotter.plot(histories)\n",
        "plt.xlabel(\"Epochs\")\n",
        "plt.legend(bbox_to_anchor=(1.0, 1.0), loc='upper left')\n",
        "plt.title(\"Accuracy Curves for Models\")\n",
        "plt.show()"
      ],
      "execution_count": null,
      "outputs": [
        {
          "output_type": "display_data",
          "data": {
            "image/png": "[encoded data removed]",
            "text/plain": [
              "<Figure size 864x576 with 1 Axes>"
            ]
          },
          "metadata": {
            "tags": [],
            "needs_background": "light"
          }
        }
      ]
    },
    {
      "cell_type": "code",
      "metadata": {
        "colab": {
          "base_uri": "https://localhost:8080/",
          "height": 538
        },
        "id": "E8UQY4u_6gfg",
        "outputId": "a7236edb-35dc-4c97-bdfa-3e41cd609dd2"
      },
      "source": [
        "from PIL import Image\n",
        "from numpy import asarray\n",
        "seven = '/content/drive/MyDrive/IMG_20210612_221118.jpg'\n",
        "three = '/content/drive/MyDrive/IMG_20210612_225502.jpg'\n",
        "image = Image.open(seven)\n",
        "data = asarray(image)\n",
        "print(type(data))\n",
        "# summarize shape\n",
        "print(data.shape)\n",
        "plt.imshow(data)"
      ],
      "execution_count": null,
      "outputs": [
        {
          "output_type": "stream",
          "text": [
            "<class 'numpy.ndarray'>\n",
            "(273, 272, 3)\n"
          ],
          "name": "stdout"
        },
        {
          "output_type": "execute_result",
          "data": {
            "text/plain": [
              "<matplotlib.image.AxesImage at 0x7f59b24c3ad0>"
            ]
          },
          "metadata": {
            "tags": []
          },
          "execution_count": 18
        },
        {
          "output_type": "display_data",
          "data": {
            "image/png": "[encoded data removed]",
            "text/plain": [
              "<Figure size 864x576 with 1 Axes>"
            ]
          },
          "metadata": {
            "tags": [],
            "needs_background": "light"
          }
        }
      ]
    },
    {
      "cell_type": "code",
      "metadata": {
        "id": "j39HT6_7MN-9",
        "colab": {
          "base_uri": "https://localhost:8080/",
          "height": 501
        },
        "outputId": "1a815ee0-7862-4bc1-b1ed-64c23c3a0b96"
      },
      "source": [
        "res_image = cv2.resize(data, (28,28), interpolation=cv2.INTER_CUBIC)\n",
        "plt.imshow(res_image)\n",
        "res_image.shape"
      ],
      "execution_count": null,
      "outputs": [
        {
          "output_type": "execute_result",
          "data": {
            "text/plain": [
              "(28, 28, 3)"
            ]
          },
          "metadata": {
            "tags": []
          },
          "execution_count": 19
        },
        {
          "output_type": "display_data",
          "data": {
            "image/png": "[encoded data removed]",
            "text/plain": [
              "<Figure size 864x576 with 1 Axes>"
            ]
          },
          "metadata": {
            "tags": [],
            "needs_background": "light"
          }
        }
      ]
    },
    {
      "cell_type": "code",
      "metadata": {
        "colab": {
          "base_uri": "https://localhost:8080/",
          "height": 518
        },
        "id": "tX-WMy7bNrWn",
        "outputId": "45010a51-24d1-4efd-d2a1-d885cc3d223e"
      },
      "source": [
        "gray = cv2.cvtColor(res_image, cv2.COLOR_BGR2GRAY)\n",
        "gray_img = cv2.bitwise_not(gray)\n",
        "gray_img = np.expand_dims(gray, 2)\n",
        "print(gray_img.shape)\n",
        "plt.imshow(gray_img[:,:,0],cmap='gray')"
      ],
      "execution_count": null,
      "outputs": [
        {
          "output_type": "stream",
          "text": [
            "(28, 28, 1)\n"
          ],
          "name": "stdout"
        },
        {
          "output_type": "execute_result",
          "data": {
            "text/plain": [
              "<matplotlib.image.AxesImage at 0x7f59b2471110>"
            ]
          },
          "metadata": {
            "tags": []
          },
          "execution_count": 20
        },
        {
          "output_type": "display_data",
          "data": {
            "image/png": "[encoded data removed]",
            "text/plain": [
              "<Figure size 864x576 with 1 Axes>"
            ]
          },
          "metadata": {
            "tags": [],
            "needs_background": "light"
          }
        }
      ]
    },
    {
      "cell_type": "code",
      "metadata": {
        "colab": {
          "base_uri": "https://localhost:8080/"
        },
        "id": "Jr8oMGhKNRMe",
        "outputId": "5a9e86e0-a526-480d-a7ed-09a70fed94b1"
      },
      "source": [
        "print(np.argmax(model.predict(x_test[2:3,:,:,:])))"
      ],
      "execution_count": null,
      "outputs": [
        {
          "output_type": "stream",
          "text": [
            "1\n"
          ],
          "name": "stdout"
        }
      ]
    },
    {
      "cell_type": "code",
      "metadata": {
        "colab": {
          "base_uri": "https://localhost:8080/",
          "height": 518
        },
        "id": "pHkmZvh7ns7n",
        "outputId": "da0f05ca-a9b8-4866-b22e-3b741fe067a6"
      },
      "source": [
        "ind = 3\n",
        "print(y_train[ind])\n",
        "plt.imshow(x_train[ind,:,:,0],cmap='gray')\n",
        "plt.show()\n",
        "x_train.shape"
      ],
      "execution_count": null,
      "outputs": [
        {
          "output_type": "stream",
          "text": [
            "1\n"
          ],
          "name": "stdout"
        },
        {
          "output_type": "display_data",
          "data": {
            "image/png": "[encoded data removed]",
            "text/plain": [
              "<Figure size 864x576 with 1 Axes>"
            ]
          },
          "metadata": {
            "tags": [],
            "needs_background": "light"
          }
        },
        {
          "output_type": "execute_result",
          "data": {
            "text/plain": [
              "(60000, 28, 28, 1)"
            ]
          },
          "metadata": {
            "tags": []
          },
          "execution_count": 41
        }
      ]
    },
    {
      "cell_type": "code",
      "metadata": {
        "id": "AqlKaGnzLq3f",
        "colab": {
          "base_uri": "https://localhost:8080/"
        },
        "outputId": "ce96e31f-0f5b-4158-d5af-3d6bd6acb6d5"
      },
      "source": [
        ""
      ],
      "execution_count": null,
      "outputs": [
        {
          "output_type": "execute_result",
          "data": {
            "text/plain": [
              "(10000, 28, 28, 1)"
            ]
          },
          "metadata": {
            "tags": []
          },
          "execution_count": 23
        }
      ]
    },
    {
      "cell_type": "code",
      "metadata": {
        "id": "qDXyO9KOfQbH"
      },
      "source": [
        ""
      ],
      "execution_count": null,
      "outputs": []
    }
  ]
}